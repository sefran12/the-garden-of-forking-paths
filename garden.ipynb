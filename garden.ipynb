{
 "cells": [
  {
   "cell_type": "code",
   "execution_count": 1,
   "metadata": {},
   "outputs": [
    {
     "data": {
      "text/plain": [
       "True"
      ]
     },
     "execution_count": 1,
     "metadata": {},
     "output_type": "execute_result"
    }
   ],
   "source": [
    "import os\n",
    "from dotenv import load_dotenv\n",
    "\n",
    "load_dotenv()"
   ]
  },
  {
   "cell_type": "code",
   "execution_count": 4,
   "metadata": {},
   "outputs": [],
   "source": [
    "from typing import Annotated\n",
    "from typing_extensions import TypedDict\n",
    "\n",
    "from langgraph.graph import StateGraph, START, END\n",
    "from langgraph.graph.message import add_messages\n",
    "\n",
    "class State(TypedDict):\n",
    "    \"\"\"Messages have the type \"list\". The 'add_messages' function\n",
    "    in the annotation defines how this state key should be updated\n",
    "    (in this case, it appends messages to the list, rather than\n",
    "    overwriting them)\"\"\"\n",
    "    messages: Annotated[list, add_messages]\n",
    "\n",
    "# We create a graph builder based on the state\n",
    "graph_builder = StateGraph(State)"
   ]
  },
  {
   "cell_type": "code",
   "execution_count": 6,
   "metadata": {},
   "outputs": [],
   "source": [
    "from langchain_openai import ChatOpenAI\n",
    "\n",
    "llm = ChatOpenAI(model=\"gpt-4o-mini\")\n",
    "\n",
    "# Nodes represent units of work, typically regular python functions\n",
    "def chatbot(state: State):\n",
    "    return {\"messages\": [llm.invoke(state[\"messages\"])]} # It returns only one message, but by the state annotation \"add_messages\" it appends it.\n",
    "\n",
    "# We add the node to our graph\n",
    "graph_builder.add_node(\n",
    "    \"chatbot\", chatbot\n",
    ")"
   ]
  },
  {
   "cell_type": "code",
   "execution_count": 7,
   "metadata": {},
   "outputs": [],
   "source": [
    "# We need to add an entry point:\n",
    "graph_builder.add_edge(START, \"chatbot\")\n",
    "\n",
    "# and a finish point\n",
    "graph_builder.add_edge(\"chatbot\", END)"
   ]
  },
  {
   "cell_type": "code",
   "execution_count": 8,
   "metadata": {},
   "outputs": [],
   "source": [
    "# We now compile our graph\n",
    "graph = graph_builder.compile()"
   ]
  },
  {
   "cell_type": "code",
   "execution_count": 9,
   "metadata": {},
   "outputs": [
    {
     "data": {
      "image/jpeg": "[encoded data removed]",
      "text/plain": [
       "<IPython.core.display.Image object>"
      ]
     },
     "metadata": {},
     "output_type": "display_data"
    }
   ],
   "source": [
    "from IPython.display import Image, display\n",
    "\n",
    "try:\n",
    "    display(Image(graph.get_graph().draw_mermaid_png()))\n",
    "except Exception:\n",
    "    # This requires some extra dependencies and is optional\n",
    "    pass"
   ]
  },
  {
   "cell_type": "code",
   "execution_count": 13,
   "metadata": {},
   "outputs": [
    {
     "name": "stdout",
     "output_type": "stream",
     "text": [
      "Assistant: Hello! How can I assist you today?\n",
      "Assistant: I am an AI language model created by OpenAI, designed to assist with a wide range of questions and tasks by providing information, suggestions, and engaging in conversation. How can I help you today?\n",
      "Assistant: I don't have a gender or personal identity. I'm just a program designed to assist you with information and answer your questions!\n",
      "Assistant: Anthropomorphism is the attribution of human characteristics, emotions, or behaviors to non-human entities, such as animals, inanimate objects, or natural phenomena. While it can enhance storytelling, foster empathy, and aid understanding in certain contexts, there are several dangers associated with anthropomorphization:\n",
      "\n",
      "1. **Misunderstanding Animal Behavior**: People may misinterpret animal actions or needs by projecting human emotions onto them. For example, assuming that a dog is \"guilty\" when it shows submissive behavior can lead to misunderstandings about its true emotional state and behavior.\n",
      "\n",
      "2. **Inaccurate Scientific Understanding**: In fields like biology and ecology, anthropomorphism can lead to flawed research conclusions. Scientists may overlook the true instincts or behaviors of animals, focusing instead on how those behaviors appear similar to human actions.\n",
      "\n",
      "3. **Inappropriate Treatment of Animals**: Treating animals based on human-like emotions can result in poor welfare practices. For example, owners might overly pamper pets or ignore their natural instincts, leading to behavioral issues or health problems.\n",
      "\n",
      "4. **Ethical Implications**: Anthropomorphizing can complicate ethical considerations regarding animal rights and welfare. If people believe animals think and feel like humans, they might advocate for their rights differently, which can lead to inconsistencies in how various species are treated.\n",
      "\n",
      "5. **Misguided Conservation Efforts**: Conservation strategies that rely on anthropomorphism may focus on \"charismatic\" species that are human-like in appearance or behavior, potentially neglecting less relatable but equally important species and ecosystems.\n",
      "\n",
      "6. **Cultural Stereotyping**: In literature, media, and marketing, anthropomorphism can reinforce stereotypes and anthropocentric views, leading to a narrow understanding of nature and the roles of different species within ecosystems.\n",
      "\n",
      "7. **Emotional Distress**: Over-identifying with animals can lead to emotional distress, particularly in cases where animals experience suffering or death. This can result in anxiety or guilt, impacting mental health.\n",
      "\n",
      "8. **Oversimplification of Complex Issues**: Anthropomorphism can lead to oversimplified narratives about complex issues, such as climate change or species extinction, by framing them in overly familiar human terms that miss important nuances.\n",
      "\n",
      "In summary, while anthropomorphism can be a useful tool for engaging with non-human entities, it is essential to be aware of its potential pitfalls to ensure that our understanding and treatment of animals and nature remain grounded in reality.\n",
      "Goodbye!\n"
     ]
    }
   ],
   "source": [
    "# Test\n",
    "while True:\n",
    "    user_input = input(\"User:\")\n",
    "    if user_input.lower() in [\"quit\", \"exit\", \"q\"]:\n",
    "        print(\"Goodbye!\")\n",
    "        break\n",
    "    for event in graph.stream({\"messages\": (\"user\", user_input)}):\n",
    "        for value in event.values():\n",
    "            print(\"Assistant:\", value[\"messages\"][-1].content)"
   ]
  },
  {
   "cell_type": "markdown",
   "metadata": {},
   "source": [
    "# Tools"
   ]
  },
  {
   "cell_type": "code",
   "execution_count": 68,
   "metadata": {},
   "outputs": [],
   "source": [
    "from langchain_community.utilities import GoogleSerperAPIWrapper\n",
    "from langchain.agents import Tool\n",
    "\n",
    "searcher = GoogleSerperAPIWrapper()\n",
    "search = Tool(name=\"google_earch\", func=searcher.run, description=\"Useful for current events.\") # Must be a tool, so it has an \"invoke\" method.\n",
    "tools = [search]"
   ]
  },
  {
   "cell_type": "code",
   "execution_count": 78,
   "metadata": {},
   "outputs": [],
   "source": [
    "from typing import Annotated\n",
    "from typing_extensions import TypedDict\n",
    "\n",
    "from langgraph.graph import StateGraph, START, END\n",
    "from langgraph.graph.message import add_messages\n",
    "from langchain_openai import ChatOpenAI\n",
    "\n",
    "class State(TypedDict):\n",
    "    \"\"\"Messages have the type \"list\". The 'add_messages' function\n",
    "    in the annotation defines how this state key should be updated\n",
    "    (in this case, it appends messages to the list, rather than\n",
    "    overwriting them)\"\"\"\n",
    "    messages: Annotated[list, add_messages]\n",
    "\n",
    "# We create a graph builder based on the state\n",
    "graph_builder = StateGraph(State)\n",
    "\n",
    "\n",
    "llm = ChatOpenAI(model=\"gpt-4o-mini\")\n",
    "# Modification: Bind tools, or, tell the LLM which tools it can call\n",
    "llm_with_tools = llm.bind_tools(tools)\n",
    "\n",
    "# Nodes represent units of work, typically regular python functions\n",
    "def chatbot(state: State):\n",
    "    return {\"messages\": [llm_with_tools.invoke(state[\"messages\"])]} # It returns only one message, but by the state annotation \"add_messages\" it appends it.\n",
    "\n",
    "# We add the node to our graph\n",
    "graph_builder.add_node(\n",
    "    \"chatbot\", chatbot\n",
    ")"
   ]
  },
  {
   "cell_type": "code",
   "execution_count": 79,
   "metadata": {},
   "outputs": [],
   "source": [
    "# We now need to create a function to actually run the tools if they are called.\n",
    "# We do this by creatin a Node, and adding the tools to it.\n",
    "import json\n",
    "\n",
    "from langchain_core.messages import ToolMessage\n",
    "\n",
    "\n",
    "class BasicToolNode:\n",
    "    \"\"\"A node that runs the tools requested in the last AIMessage.\"\"\"\n",
    "\n",
    "    def __init__(self, tools: list) -> None:\n",
    "        self.tools_by_name = {tool.name: tool for tool in tools}\n",
    "\n",
    "    def __call__(self, inputs: dict):\n",
    "        if messages := inputs.get(\"messages\", []):\n",
    "            message = messages[-1]\n",
    "            print(message)\n",
    "        else:\n",
    "            raise ValueError(\"No message found in input\")\n",
    "        outputs = []\n",
    "        for tool_call in message.tool_calls:\n",
    "            print(tool_call)\n",
    "            tool_result = self.tools_by_name[tool_call[\"name\"]].invoke(\n",
    "                tool_call[\"args\"][\"args\"][0] # This is very \"hardcody\". How to access the args?\n",
    "            )\n",
    "            outputs.append(\n",
    "                ToolMessage(\n",
    "                    content=json.dumps(tool_result),\n",
    "                    name=tool_call[\"name\"],\n",
    "                    tool_call_id=tool_call[\"id\"],\n",
    "                )\n",
    "            )\n",
    "        return {\"messages\": outputs}"
   ]
  },
  {
   "cell_type": "code",
   "execution_count": 80,
   "metadata": {},
   "outputs": [],
   "source": [
    "# Add it to the graph\n",
    "tool_node = BasicToolNode(tools=tools)\n",
    "graph_builder.add_node(\"tools\", tool_node)"
   ]
  },
  {
   "cell_type": "code",
   "execution_count": 81,
   "metadata": {},
   "outputs": [],
   "source": [
    "# Now we need an edge. In this case, a conditional edge.\n",
    "# We will implement, then, a router that checks for a tool call.\n",
    "from typing import Literal\n",
    "\n",
    "\n",
    "def route_tools(\n",
    "    state: State\n",
    ") -> Literal[\"tools\", \"__end__\"]:\n",
    "    \"\"\"\n",
    "    Use in the conditional_edge to route to the ToolNode if the last message\n",
    "    has tool calls. Otherwise, route to the end.\n",
    "    \"\"\"\n",
    "    if isinstance(state, list):\n",
    "        ai_message = state[-1]\n",
    "    elif messages:= state.get(\"messages\", []):\n",
    "        ai_message = messages[-1]\n",
    "    else:\n",
    "        raise ValueError(f\"No messages found in input state to tool_edge: {state}\")\n",
    "    if hasattr(ai_message, \"tool_calls\") and len(ai_message.tool_calls) > 0:\n",
    "        return \"tools\"\n",
    "    return \"__end__\""
   ]
  },
  {
   "cell_type": "code",
   "execution_count": 82,
   "metadata": {},
   "outputs": [],
   "source": [
    "# We now create the graph. This conditional routing defines the main agent loop\n",
    "graph_builder.add_conditional_edges(\n",
    "    \"chatbot\",\n",
    "    route_tools,\n",
    "    # This dictionary tells the graph to interpret the conditions' outputs as\n",
    "    # a specific node. It is the identity map as default.\n",
    "    {\"tools\": \"tools\", \"__end__\": \"__end__\"}\n",
    ")\n",
    "# ANy time a tool is called, we always return to the chatbot to decide the next step\n",
    "graph_builder.add_edge(\"tools\", \"chatbot\")\n",
    "graph_builder.add_edge(START, \"chatbot\") # Entry node\n",
    "graph = graph_builder.compile() # Tool router already includes an exit."
   ]
  },
  {
   "cell_type": "code",
   "execution_count": 83,
   "metadata": {},
   "outputs": [
    {
     "data": {
      "image/jpeg": "[encoded data removed]",
      "text/plain": [
       "<IPython.core.display.Image object>"
      ]
     },
     "metadata": {},
     "output_type": "display_data"
    }
   ],
   "source": [
    "from IPython.display import Image, display\n",
    "\n",
    "try:\n",
    "    display(Image(graph.get_graph().draw_mermaid_png()))\n",
    "except Exception:\n",
    "    # This requires some extra dependencies and is optional\n",
    "    pass"
   ]
  },
  {
   "cell_type": "code",
   "execution_count": 84,
   "metadata": {},
   "outputs": [
    {
     "name": "stdout",
     "output_type": "stream",
     "text": [
      "Assistant: \n",
      "content='' additional_kwargs={'tool_calls': [{'id': 'call_y71H3ZvgfG3c30ohMwUxtVjs', 'function': {'arguments': '{\"args\":[\"Milan weather forecast July 28 2023\"],\"config\":{\"tags\":[\"weather\",\"Milan\",\"July 28 2023\"],\"max_concurrency\":1}}', 'name': 'google_earch'}, 'type': 'function'}]} response_metadata={'token_usage': {'completion_tokens': 48, 'prompt_tokens': 103, 'total_tokens': 151}, 'model_name': 'gpt-4o-mini', 'system_fingerprint': 'fp_661538dc1f', 'finish_reason': 'tool_calls', 'logprobs': None} id='run-ae46873b-fdb2-4d72-9f7c-e722711b86ab-0' tool_calls=[{'name': 'google_earch', 'args': {'args': ['Milan weather forecast July 28 2023'], 'config': {'tags': ['weather', 'Milan', 'July 28 2023'], 'max_concurrency': 1}}, 'id': 'call_y71H3ZvgfG3c30ohMwUxtVjs', 'type': 'tool_call'}] usage_metadata={'input_tokens': 103, 'output_tokens': 48, 'total_tokens': 151}\n",
      "{'name': 'google_earch', 'args': {'args': ['Milan weather forecast July 28 2023'], 'config': {'tags': ['weather', 'Milan', 'July 28 2023'], 'max_concurrency': 1}}, 'id': 'call_y71H3ZvgfG3c30ohMwUxtVjs', 'type': 'tool_call'}\n",
      "Assistant: \"Milan Weather Forecast for July 2023 is based on statistical data. 2015 ... Friday, 28 July. +68\\u00b0. Day. +81\\u00b0. Broken clouds. Saturday, 29 July. +72\\u00b0. Day. +82 ... Get the monthly weather forecast for Milan, Lombardy, Italy, including daily high/low, historical averages, to help you plan ahead. The weather in Milan in July is hot. The average temperatures are between 66\\u00b0F and 87\\u00b0F. Usually the days in July are hot while the nights are a bit cooler. July, 23 \\u00b0C | 74 \\u00b0F, 28 \\u00b0C | 83 \\u00b0F, 17 \\u00b0C | 63 \\u00b0F, 1.3 mm | 0.0 inch. 2. July, 23 \\u00b0C | 74 \\u00b0F, 28 \\u00b0C | 82 \\u00b0F, 18 \\u00b0C | 65 \\u00b0F, 2.1 mm | 0.1 inch. 3. July, 23 \\u00b0C | ... The weather in july in Milan is wet (with 8.9in of precipitation over 12 days). The weather is better from the previous month since in june it receives an ... Get the monthly weather forecast for Milan, Lombardy, Italy, including daily ... Avg. 41\\u00b0. 33\\u00b0 \\u00b7 28. Hist. Avg. 41\\u00b0. 33\\u00b0 \\u00b7 29. Hist. Avg. 41\\u00b0. 33\\u00b0 \\u00b7 30. Hist. Avg ... 28. 88\\u00b0. 70\\u00b0. 29. 88\\u00b0. 70\\u00b0. 30. 88\\u00b0. 70\\u00b0 ... July, 84\\u00b0, 63\\u00b0, 2.70. August, 82\\u00b0, 62\\u00b0, 3.70. September, 76\\u00b0, 56\\u00b0, 2.70. Advertisement ... Milan (Italy) weather in July 2024 \\u2600\\ufe0f Accurate weather forecast for Milan in ... 28\\u00b0 +29\\u00b0 +30\\u00b0 +30\\u00b0 +30\\u00b0 +31\\u00b0 +31\\u00b0 +21\\u00b0 +21\\u00b0 +20\\u00b0 +20\\u00b0 +21\\u00b0 +22\\u00b0 +22\\u00b0 +21\\u00b0 + ... Conditions, Comfort. Time, Temp, Weather, Wind, Humidity, Barometer, Visibility. 12:20 am. Tue, Aug 1, 79 \\u00b0F, Passing clouds. 6 mph, \\u2191, 70%, 29.80 \\\"Hg, N/A. 28. 88\\u00b0. 70\\u00b0. 29. 87\\u00b0. 69\\u00b0. 30. 88\\u00b0 ... July, 84\\u00b0, 63\\u00b0, 2.70. August, 82\\u00b0, 62\\u00b0, 3.70. September, 76\\u00b0, 56\\u00b0, 2.70. Advertisement ...\"\n",
      "Assistant: The weather forecast for Milan on July 28, 2023, indicates that it will be hot, with temperatures ranging from around 66°F to 87°F. However, the detailed probability of rain for that specific day was not provided in the search results. \n",
      "\n",
      "For a more accurate prediction, it would be best to check a reliable weather forecasting website closer to the date.\n"
     ]
    }
   ],
   "source": [
    "from langchain_core.messages import BaseMessage\n",
    "\n",
    "user_input = \"What is the probability of rain in Milan on the 28th of July?\"\n",
    "for event in graph.stream({\"messages\": [(\"user\", user_input)]}):\n",
    "    for value in event.values():\n",
    "        if isinstance(value[\"messages\"][-1], BaseMessage):\n",
    "            print(\"Assistant:\", value[\"messages\"][-1].content)"
   ]
  },
  {
   "cell_type": "code",
   "execution_count": null,
   "metadata": {},
   "outputs": [],
   "source": []
  }
 ],
 "metadata": {
  "kernelspec": {
   "display_name": "yougpt_v3",
   "language": "python",
   "name": "python3"
  },
  "language_info": {
   "codemirror_mode": {
    "name": "ipython",
    "version": 3
   },
   "file_extension": ".py",
   "mimetype": "text/x-python",
   "name": "python",
   "nbconvert_exporter": "python",
   "pygments_lexer": "ipython3",
   "version": "3.10.8"
  }
 },
 "nbformat": 4,
 "nbformat_minor": 2
}
