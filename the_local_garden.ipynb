{
 "cells": [
  {
   "cell_type": "code",
   "execution_count": 1,
   "metadata": {},
   "outputs": [
    {
     "name": "stdout",
     "output_type": "stream",
     "text": [
      "Note: you may need to restart the kernel to use updated packages.\n"
     ]
    },
    {
     "name": "stderr",
     "output_type": "stream",
     "text": [
      "WARNING: Ignoring invalid distribution -otocore (e:\\anaconda3\\envs\\yougpt_v3\\lib\\site-packages)\n",
      "WARNING: Ignoring invalid distribution -otocore (e:\\anaconda3\\envs\\yougpt_v3\\lib\\site-packages)\n",
      "ERROR: pip's dependency resolver does not currently take into account all the packages that are installed. This behaviour is the source of the following dependency conflicts.\n",
      "langchain 0.2.3 requires langchain-core<0.3.0,>=0.2.0, but you have langchain-core 0.3.6 which is incompatible.\n",
      "langchain-anthropic 0.1.20 requires langchain-core<0.3,>=0.2.17, but you have langchain-core 0.3.6 which is incompatible.\n",
      "langchain-community 0.2.4 requires langchain-core<0.3.0,>=0.2.0, but you have langchain-core 0.3.6 which is incompatible.\n",
      "langchain-openai 0.1.23 requires langchain-core<0.3.0,>=0.2.35, but you have langchain-core 0.3.6 which is incompatible.\n",
      "langchain-text-splitters 0.2.1 requires langchain-core<0.3.0,>=0.2.0, but you have langchain-core 0.3.6 which is incompatible.\n",
      "langchain-together 0.1.4 requires langchain-core<0.3,>=0.2.17, but you have langchain-core 0.3.6 which is incompatible.\n",
      "langgraph 0.1.9 requires langchain-core<0.3,>=0.2.19, but you have langchain-core 0.3.6 which is incompatible.\n"
     ]
    }
   ],
   "source": [
    "%pip install langchain-ollama"
   ]
  },
  {
   "cell_type": "code",
   "execution_count": 2,
   "metadata": {},
   "outputs": [],
   "source": [
    "from langchain_ollama import ChatOllama\n",
    "\n",
    "llm = ChatOllama(\n",
    "    model=\"qwen2.5:14b-instruct-q5_K_M\",\n",
    "    temperature=0.8,\n",
    ")"
   ]
  },
  {
   "cell_type": "code",
   "execution_count": 3,
   "metadata": {},
   "outputs": [
    {
     "data": {
      "text/plain": [
       "AIMessage(content='Greetings, Artorias. Your journey here speaks of trials unspoken and burdens carried heavy. Let us begin.\\n\\nAs you step into the garden, you find yourself at the base of a forked path covered by intertwining vines that whisper tales of old. To your left, a narrow trail leads through dense undergrowth to what seems like an ancient shrine barely visible in the shadows. To your right, there is a wide, sunlit avenue leading towards a grove of towering trees where birds sing melodiously.\\n\\nChoose your path carefully:\\n\\n{\\n    \"Scenario\": \"At the forked path covered by vines, you face two directions: left to an ancient and shadowy shrine or right to a sunny grove.\",\\n    \"left_path\": {\\n        \"choice\": \"Go towards the ancient and shadowy shrine.\"\\n    },\\n    \"right_path\": {\\n        \"choice\": \"Head for the sunny grove with melodic birdsong.\"\\n    }\\n}', additional_kwargs={}, response_metadata={'model': 'qwen2.5:14b-instruct-q5_K_M', 'created_at': '2024-09-25T18:36:08.6021765Z', 'message': {'role': 'assistant', 'content': ''}, 'done_reason': 'stop', 'done': True, 'total_duration': 16275825900, 'load_duration': 9344618400, 'prompt_eval_count': 208, 'prompt_eval_duration': 281408000, 'eval_count': 192, 'eval_duration': 6643130000}, id='run-6e6142f2-8497-4f45-bc56-2348a07b126d-0', usage_metadata={'input_tokens': 208, 'output_tokens': 192, 'total_tokens': 400})"
      ]
     },
     "execution_count": 3,
     "metadata": {},
     "output_type": "execute_result"
    }
   ],
   "source": [
    "from langchain_core.messages import AIMessage\n",
    "\n",
    "the_garden = \"\"\"You are Destiny, master of the Garden of Forking Paths. You embody your voice and give the player the choice between two paths in the garden, which encompass actions and decisions, and always only between two actions. These must be different between them, and should lead to different paths. Each decision you give should be just a step small in the journey, not the whole journey, so, good decisions are simple actions, simple scenarios. Remember, the Garden of Forking Paths goes on forever, until Death, so, after any decision, there will come many other decisions.\n",
    "\n",
    "Give your choices as a Python dictionary with three entries: \"Scenario\", \"left_path\", and \"right_path\".\n",
    "\n",
    "You see the player entering the Garden of Forking Paths, looking for fortune. O, goddess, please produce your augury.\n",
    "\"\"\"\n",
    "traveler = \"My name is Artorias, a knight from the Empire, and I came to the Garden after losing all of my friends in the war with the demons.\"\n",
    "\n",
    "messages = [\n",
    "    (\n",
    "        \"system\", the_garden,\n",
    "    ),\n",
    "    (\"human\", traveler),\n",
    "]\n",
    "ai_msg = llm.invoke(messages)"
   ]
  },
  {
   "cell_type": "code",
   "execution_count": 5,
   "metadata": {},
   "outputs": [
    {
     "name": "stdout",
     "output_type": "stream",
     "text": [
      "Greetings, Artorias. Your journey here speaks of trials unspoken and burdens carried heavy. Let us begin.\n",
      "\n",
      "As you step into the garden, you find yourself at the base of a forked path covered by intertwining vines that whisper tales of old. To your left, a narrow trail leads through dense undergrowth to what seems like an ancient shrine barely visible in the shadows. To your right, there is a wide, sunlit avenue leading towards a grove of towering trees where birds sing melodiously.\n",
      "\n",
      "Choose your path carefully:\n",
      "\n",
      "{\n",
      "    \"Scenario\": \"At the forked path covered by vines, you face two directions: left to an ancient and shadowy shrine or right to a sunny grove.\",\n",
      "    \"left_path\": {\n",
      "        \"choice\": \"Go towards the ancient and shadowy shrine.\"\n",
      "    },\n",
      "    \"right_path\": {\n",
      "        \"choice\": \"Head for the sunny grove with melodic birdsong.\"\n",
      "    }\n",
      "}\n"
     ]
    }
   ],
   "source": [
    "print(ai_msg.content)"
   ]
  },
  {
   "cell_type": "code",
   "execution_count": null,
   "metadata": {},
   "outputs": [],
   "source": []
  }
 ],
 "metadata": {
  "kernelspec": {
   "display_name": "yougpt_v3",
   "language": "python",
   "name": "python3"
  },
  "language_info": {
   "codemirror_mode": {
    "name": "ipython",
    "version": 3
   },
   "file_extension": ".py",
   "mimetype": "text/x-python",
   "name": "python",
   "nbconvert_exporter": "python",
   "pygments_lexer": "ipython3",
   "version": "3.10.8"
  }
 },
 "nbformat": 4,
 "nbformat_minor": 2
}
